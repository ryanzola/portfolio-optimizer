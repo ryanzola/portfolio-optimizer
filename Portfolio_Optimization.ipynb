{
 "cells": [
  {
   "cell_type": "code",
   "execution_count": null,
   "id": "c44ccea3-1bf5-4994-b696-d3febaf22c98",
   "metadata": {},
   "outputs": [],
   "source": [
    "%pip install yfinance"
   ]
  },
  {
   "cell_type": "code",
   "execution_count": null,
   "id": "06f02ed2-5259-47ed-b4f8-063a7964e15c",
   "metadata": {},
   "outputs": [],
   "source": [
    "%pip install PyPortfolioOpt"
   ]
  },
  {
   "cell_type": "code",
   "execution_count": null,
   "id": "1800a6dd-7eb9-4c69-a604-f8cd26d03969",
   "metadata": {},
   "outputs": [],
   "source": [
    "%pip install scikit-learn"
   ]
  },
  {
   "cell_type": "code",
   "execution_count": 3,
   "id": "d1ff7866-9e6e-47e8-a19a-6b9aa922c83f",
   "metadata": {},
   "outputs": [],
   "source": [
    "# Cool data\n",
    "import yfinance as yf\n",
    "\n",
    "# The usual suspects\n",
    "import pandas as pd\n",
    "import numpy as np\n",
    "import matplotlib.pyplot as plt\n",
    "import plotly.express as px\n",
    "import seaborn as sns\n",
    "\n",
    "# Use PyPortfolioOpt for Calculations\n",
    "from pypfopt import EfficientFrontier, objective_functions\n",
    "from pypfopt import black_litterman, risk_models\n",
    "from pypfopt import BlackLittermanModel, plotting\n",
    "from pypfopt import DiscreteAllocation"
   ]
  },
  {
   "cell_type": "code",
   "execution_count": 38,
   "id": "993259ce-ab9b-40ef-83ad-2aea0706a84e",
   "metadata": {},
   "outputs": [],
   "source": [
    "# Create a portfolio\n",
    "symbols = [\n",
    "    'TSLA',\n",
    "    'MSFT',\n",
    "    'NVDA',\n",
    "    'GOOGL',\n",
    "    'CRSP'\n",
    "]"
   ]
  },
  {
   "cell_type": "code",
   "execution_count": 39,
   "id": "64da5155-c53e-47c6-930d-8a270ef94b83",
   "metadata": {},
   "outputs": [
    {
     "name": "stdout",
     "output_type": "stream",
     "text": [
      "[*********************100%***********************]  5 of 5 completed\n"
     ]
    },
    {
     "data": {
      "text/html": [
       "<div>\n",
       "<style scoped>\n",
       "    .dataframe tbody tr th:only-of-type {\n",
       "        vertical-align: middle;\n",
       "    }\n",
       "\n",
       "    .dataframe tbody tr th {\n",
       "        vertical-align: top;\n",
       "    }\n",
       "\n",
       "    .dataframe thead th {\n",
       "        text-align: right;\n",
       "    }\n",
       "</style>\n",
       "<table border=\"1\" class=\"dataframe\">\n",
       "  <thead>\n",
       "    <tr style=\"text-align: right;\">\n",
       "      <th></th>\n",
       "      <th>CRSP</th>\n",
       "      <th>GOOGL</th>\n",
       "      <th>MSFT</th>\n",
       "      <th>NVDA</th>\n",
       "      <th>TSLA</th>\n",
       "    </tr>\n",
       "    <tr>\n",
       "      <th>Date</th>\n",
       "      <th></th>\n",
       "      <th></th>\n",
       "      <th></th>\n",
       "      <th></th>\n",
       "      <th></th>\n",
       "    </tr>\n",
       "  </thead>\n",
       "  <tbody>\n",
       "    <tr>\n",
       "      <th>2018-01-02</th>\n",
       "      <td>25.170000</td>\n",
       "      <td>53.660500</td>\n",
       "      <td>80.562057</td>\n",
       "      <td>49.321182</td>\n",
       "      <td>21.368668</td>\n",
       "    </tr>\n",
       "    <tr>\n",
       "      <th>2018-01-03</th>\n",
       "      <td>23.520000</td>\n",
       "      <td>54.576000</td>\n",
       "      <td>80.936974</td>\n",
       "      <td>52.567204</td>\n",
       "      <td>21.150000</td>\n",
       "    </tr>\n",
       "    <tr>\n",
       "      <th>2018-01-04</th>\n",
       "      <td>23.910000</td>\n",
       "      <td>54.787998</td>\n",
       "      <td>81.649330</td>\n",
       "      <td>52.844311</td>\n",
       "      <td>20.974667</td>\n",
       "    </tr>\n",
       "    <tr>\n",
       "      <th>2018-01-05</th>\n",
       "      <td>26.809999</td>\n",
       "      <td>55.514500</td>\n",
       "      <td>82.661613</td>\n",
       "      <td>53.292118</td>\n",
       "      <td>21.105333</td>\n",
       "    </tr>\n",
       "    <tr>\n",
       "      <th>2018-01-08</th>\n",
       "      <td>26.070000</td>\n",
       "      <td>55.710499</td>\n",
       "      <td>82.745995</td>\n",
       "      <td>54.925022</td>\n",
       "      <td>22.427334</td>\n",
       "    </tr>\n",
       "  </tbody>\n",
       "</table>\n",
       "</div>"
      ],
      "text/plain": [
       "                 CRSP      GOOGL       MSFT       NVDA       TSLA\n",
       "Date                                                             \n",
       "2018-01-02  25.170000  53.660500  80.562057  49.321182  21.368668\n",
       "2018-01-03  23.520000  54.576000  80.936974  52.567204  21.150000\n",
       "2018-01-04  23.910000  54.787998  81.649330  52.844311  20.974667\n",
       "2018-01-05  26.809999  55.514500  82.661613  53.292118  21.105333\n",
       "2018-01-08  26.070000  55.710499  82.745995  54.925022  22.427334"
      ]
     },
     "execution_count": 39,
     "metadata": {},
     "output_type": "execute_result"
    }
   ],
   "source": [
    "portfolio = yf.download(symbols, start='2018-01-01', end='2023-07-24')['Adj Close']\n",
    "\n",
    "portfolio.head()"
   ]
  },
  {
   "cell_type": "code",
   "execution_count": 81,
   "id": "309573c9-ba6c-418b-a55a-85eb20c9f90e",
   "metadata": {},
   "outputs": [
    {
     "name": "stdout",
     "output_type": "stream",
     "text": [
      "[*********************100%***********************]  1 of 1 completed\n"
     ]
    },
    {
     "data": {
      "text/plain": [
       "Date\n",
       "2018-01-02    244.918640\n",
       "2018-01-03    246.467834\n",
       "2018-01-04    247.506683\n",
       "2018-01-05    249.155991\n",
       "2018-01-08    249.611633\n",
       "Name: Adj Close, dtype: float64"
      ]
     },
     "execution_count": 81,
     "metadata": {},
     "output_type": "execute_result"
    }
   ],
   "source": [
    "# S&P 500 ETF Benchmark\n",
    "market_prices = yf.download('SPY', start='2018-01-01', end='2023-07-24')['Adj Close']\n",
    "\n",
    "market_prices.head()"
   ]
  },
  {
   "cell_type": "code",
   "execution_count": 82,
   "id": "209e0b8f-edff-430a-b926-7ab07b88cb19",
   "metadata": {},
   "outputs": [
    {
     "name": "stdout",
     "output_type": "stream",
     "text": [
      "{'TSLA': 840804925440, 'MSFT': 2609708269568, 'NVDA': 1128271314944, 'GOOGL': 1553692360704, 'CRSP': 4376162304}\n"
     ]
    }
   ],
   "source": [
    "# Grab Market Cap for each stock in portfolio\n",
    "mcaps = {}\n",
    "for t in symbols:\n",
    "    stock = yf.Ticker(t)\n",
    "    mcaps[t] = stock.info['marketCap']\n",
    "    \n",
    "print(mcaps)"
   ]
  },
  {
   "cell_type": "markdown",
   "id": "ff3f8e51-4931-4fb5-96c1-3eec059bbe63",
   "metadata": {},
   "source": [
    "## Get Priors"
   ]
  },
  {
   "cell_type": "code",
   "execution_count": 83,
   "id": "472e2390-26e3-4f2e-8d12-440c9baea3e2",
   "metadata": {},
   "outputs": [
    {
     "name": "stdout",
     "output_type": "stream",
     "text": [
      "2.5745356294760926\n"
     ]
    }
   ],
   "source": [
    "# Estimate the covariance matrix of the portfolio returns.\n",
    "# The Ledoit-Wolf method is a type of covariance matrix estimation \n",
    "# that uses shrinkage to improve the estimate.\n",
    "# Shrinkage is a technique that pulls extreme values towards a central value to reduce their impact. \n",
    "# This can help in reducing the error in the covariance matrix estimate.\n",
    "S = risk_models.CovarianceShrinkage(portfolio).ledoit_wolf()\n",
    "\n",
    "# Calculate the market-implied risk aversion parameter, which is a measure of the relative risk tolerance of the market.\n",
    "# It's derived from the assumption that the market portfolio is optimal under the mean-variance optimization framework.\n",
    "# The function uses the formula: delta = (Excess market return) / (Annualized market variance)\n",
    "# The higher the delta, the lower the risk tolerance, meaning the market is more risk-averse.\n",
    "# The `market_prices` variable contains the time series of market prices or market index.\n",
    "delta = black_litterman.market_implied_risk_aversion(market_prices)\n",
    "\n",
    "print(delta)"
   ]
  },
  {
   "cell_type": "markdown",
   "id": "c1614822-bf31-4dfe-a73c-7a96a97283e3",
   "metadata": {},
   "source": [
    "In this context, `delta` is a measure of risk aversion in the Black-Litterman model. It is inferred from the market data based on the assumption that the market portfolio is the optimal portfolio.\n",
    "\n",
    "The Ledoit-Wolf shrinkage technique is used to estimate the covariance matrix `S`. It's a method for estimating a large covariance matrix by \"shrinking\" towards a structured estimator. This can help to reduce estimation error, especially when the number of observations is small."
   ]
  },
  {
   "cell_type": "code",
   "execution_count": 90,
   "id": "e68b557e-5a86-40de-8f47-ed2b1c49e332",
   "metadata": {},
   "outputs": [
    {
     "data": {
      "text/plain": [
       "<Axes: >"
      ]
     },
     "execution_count": 90,
     "metadata": {},
     "output_type": "execute_result"
    },
    {
     "data": {
      "image/png": "[encoded data removed]",
      "text/plain": [
       "<Figure size 640x480 with 2 Axes>"
      ]
     },
     "metadata": {},
     "output_type": "display_data"
    }
   ],
   "source": [
    "# Create a heatmap of the correlation matrix derived from the covariance matrix 'S'.\n",
    "sns.heatmap(S.corr(), cmap='coolwarm')"
   ]
  },
  {
   "cell_type": "markdown",
   "id": "09b35e4b-ea7a-453b-ad78-63fd1dd2fd5e",
   "metadata": {},
   "source": [
    "The correlation matrix provides a measure of how much each asset's returns move in relation to every other asset's returns.\n",
    "A value of 1 means two assets move perfectly in sync, -1 means they move exactly opposite, and 0 means there is no relationship.\n",
    "It's a helpful visualization tool for understanding the relationships between different assets in the portfolio.\n",
    "The 'coolwarm' colormap ranges from cool/blue colors for low correlation values, to warm/red colors for high correlation values.\n",
    "\n",
    "\n",
    "### Let's Notice:\n",
    "* NVDA and MSFT are highly correlated.\n",
    "* NVDA and GOOGL are highly correlated.\n",
    "* GOOGLE and CRSP are not correlated.\n",
    "* Pretty neat"
   ]
  },
  {
   "cell_type": "code",
   "execution_count": 88,
   "id": "73e2b97a-b0a3-4f5f-a544-79535e9c98fb",
   "metadata": {},
   "outputs": [
    {
     "name": "stdout",
     "output_type": "stream",
     "text": [
      "CRSP     0.270324\n",
      "GOOGL    0.247107\n",
      "MSFT     0.259147\n",
      "NVDA     0.396711\n",
      "TSLA     0.393987\n",
      "dtype: float64\n"
     ]
    }
   ],
   "source": [
    "market_prior = black_litterman.market_implied_prior_returns(mcaps, delta, S)\n",
    "print(market_prior)"
   ]
  },
  {
   "cell_type": "markdown",
   "id": "262c434b-00dc-4e46-91ff-037495d4a916",
   "metadata": {},
   "source": [
    "The **Black-Litterman model** uses the concept of market equilibrium as the starting point. The market_prior line \n",
    "calculates the market equilibrium returns, which are the returns that one would expect based on the current \n",
    "market conditions. These returns are also known as the prior or the \"neutral\" returns.\n",
    "\n",
    "The function 'market_implied_prior_returns' computes these market equilibrium returns. The inputs are:\n",
    "\n",
    "1. **mcaps** - This is the market capitalization of each asset in the portfolio. Market capitalization represents the \n",
    "             market value of a company's outstanding shares of stock. It is used to weigh each company's \n",
    "             returns in the computation.\n",
    "\n",
    "2. **delta** - This is the risk aversion coefficient, which indicates how much risk an investor is willing \n",
    "             to take on. The higher the delta, the less risk the investor is willing to take.\n",
    "\n",
    "3. **S** - This is the covariance matrix of the portfolio. The covariance matrix represents how much the returns \n",
    "          of the assets in the portfolio move together."
   ]
  },
  {
   "cell_type": "code",
   "execution_count": 45,
   "id": "c5a3e0ed-b760-46e3-90a4-477cdd5dbb8e",
   "metadata": {},
   "outputs": [
    {
     "data": {
      "text/plain": [
       "<Axes: >"
      ]
     },
     "execution_count": 45,
     "metadata": {},
     "output_type": "execute_result"
    },
    {
     "data": {
      "image/png": "[encoded data removed]",
      "text/plain": [
       "<Figure size 1000x500 with 1 Axes>"
      ]
     },
     "metadata": {},
     "output_type": "display_data"
    }
   ],
   "source": [
    "market_prior.plot.barh(figsize=(10,5))"
   ]
  },
  {
   "cell_type": "markdown",
   "id": "7f9773a0-9772-48b1-a00d-82a6f57e7cc3",
   "metadata": {},
   "source": [
    "^ How much am I going to be compensated per the risk I am taking on\n",
    "\n",
    "**Important to note:** This alone does not incorporate any of my own expertise in the matter\n",
    "\n",
    "How do I integrate that into the process?"
   ]
  },
  {
   "cell_type": "markdown",
   "id": "55d2c3ac-1a13-4de4-8d1f-562294d2f451",
   "metadata": {},
   "source": [
    "## Integrating Views"
   ]
  },
  {
   "cell_type": "code",
   "execution_count": 68,
   "id": "dda75440-8d4e-4ded-9a4e-a9361f003983",
   "metadata": {},
   "outputs": [],
   "source": [
    "viewdict = {\n",
    "    'TSLA': 0.305,  # I believe Tesla will have a 30.5% annual return\n",
    "    'MSFT': 0.09,   # I believe Microsoft will have a 9% annual return\n",
    "    'NVDA': 0.10,   # I believe Nvidia will have a 10% annual return\n",
    "    'GOOGL': 0.08,  # I believe Google will have a 8% annual return\n",
    "    'CRSP': 0.05    # I believe CRISPR will have a 5% annual return\n",
    "}\n",
    "\n",
    "bl = BlackLittermanModel(S, pi=market_prior, absolute_views=viewdict)"
   ]
  },
  {
   "cell_type": "markdown",
   "id": "540437c0-3cb6-4439-b67d-092be5ce640c",
   "metadata": {},
   "source": [
    "### Creating Confidences\n",
    "\n",
    "Calculate the uncertainty matrix directly by specifying 1 standard deviation confidence intervals, i.e. bounds which I think will contain the true return 68% of the time. This may be easier than coming up with somewhat arbitrary percentage confidence."
   ]
  },
  {
   "cell_type": "code",
   "execution_count": 69,
   "id": "5bb95473-8dd3-4488-b28c-f593a40e30f7",
   "metadata": {},
   "outputs": [],
   "source": [
    "intervals = [\n",
    "    (0.20, 0.40),  # I believe Tesla's true annual return will fall between 20% and 40% most of the time\n",
    "    (0.05, 0.15),  # I believe Microsoft's true annual return will fall between 5% and 15% most of the time\n",
    "    (0.05, 0.15),  # I believe Nvidia's true annual return will fall between 5% and 15% most of the time\n",
    "    (0.03, 0.13),  # I believe Google's true annual return will fall between 3% and 13% most of the time\n",
    "    (0.01, 0.07),  # I believe CRISPR's true annual return will fall between 1% and 7% most of the time\n",
    "]"
   ]
  },
  {
   "cell_type": "code",
   "execution_count": 80,
   "id": "e9113e7c-ad37-43e2-83a2-d67df1488103",
   "metadata": {},
   "outputs": [
    {
     "name": "stdout",
     "output_type": "stream",
     "text": [
      "[0.010000000000000002, 0.0024999999999999996, 0.0024999999999999996, 0.0025000000000000005, 0.0009000000000000002]\n"
     ]
    }
   ],
   "source": [
    "# Initialize an empty list to store the variances\n",
    "variances = []\n",
    "\n",
    "# Iterate over the confidence intervals\n",
    "for lb, ub in intervals:\n",
    "    # Calculate the standard deviation (sigma), which is half the range of the confidence interval\n",
    "    sigma = (ub - lb) / 2\n",
    "    # Square the standard deviation to get the variance and append it to the list\n",
    "    variances.append(sigma ** 2)\n",
    "\n",
    "# Print out the variances\n",
    "print(variances)\n",
    "\n",
    "# Convert the list of variances into a diagonal matrix\n",
    "# In this matrix, the variances are placed on the diagonal, and all off-diagonal elements are zero\n",
    "# This is known as the uncertainty matrix (Omega) in the Black-Litterman model, representing the uncertainty of each view\n",
    "omega = np.diag(variances)"
   ]
  },
  {
   "cell_type": "markdown",
   "id": "053e4f20-24fa-4ab2-b655-ca5311f25eb3",
   "metadata": {},
   "source": [
    "## Calculate Posterior Estimate Returns"
   ]
  },
  {
   "cell_type": "code",
   "execution_count": 71,
   "id": "76314a5b-8324-40b1-a14c-b1cd45f1c40b",
   "metadata": {},
   "outputs": [
    {
     "data": {
      "image/png": "[encoded data removed]",
      "text/plain": [
       "<Figure size 700x700 with 1 Axes>"
      ]
     },
     "metadata": {},
     "output_type": "display_data"
    }
   ],
   "source": [
    "fig, ax = plt.subplots(figsize=(7,7))\n",
    "im = ax.imshow(omega)"
   ]
  },
  {
   "cell_type": "code",
   "execution_count": 72,
   "id": "5aec6055-1f31-4467-b09e-d9a2a54d84d6",
   "metadata": {},
   "outputs": [],
   "source": [
    "# We are using the shortcut to automatically compute market-implied prior\n",
    "bl = BlackLittermanModel(S, \n",
    "                         pi='market', \n",
    "                         market_caps=mcaps, \n",
    "                         risk_aversion=delta, \n",
    "                         absolute_views=viewdict,\n",
    "                         omega=omega)"
   ]
  },
  {
   "cell_type": "markdown",
   "id": "d9ae4249-93db-4fc3-8738-6ba33bf3e4d2",
   "metadata": {},
   "source": [
    "Initiating a **Black-Litterman Model** with the specified parameters. The model combines market equilibrium returns with the investor's personal views to provide updated expected returns and covariances for the portfolio assets. Here's what each parameter is doing:\n",
    "\n",
    "**S** is the variance-covariance matrix of the assets' returns.\n",
    "\n",
    "**pi='market'** specifies that the model uses market equilibrium returns as the prior.\n",
    "\n",
    "**market_caps=mcaps** provides the market capitalization of each asset, which is used to calculate the market portfolio weights and therefore the market equilibrium returns.\n",
    "\n",
    "**risk_aversion=delta** is the risk aversion coefficient which is used to calculate the market equilibrium returns. In the context of the Black-Litterman model, this is derived from the market portfolio.\n",
    "\n",
    "**absolute_views=viewdict** are the investor's personal views on the returns of the assets. The keys of viewdict are the assets, and the values are the expected returns. This dictionary will be combined with the market equilibrium returns to generate the posterior returns.\n",
    "\n",
    "**omega=omega** is the covariance matrix of the errors from the investor's views. This indicates the investor's confidence in each of their views. The larger the error variance, the less confident the investor is in their view. This is used in the model to balance the market equilibrium returns and the investor's views.\n",
    "\n",
    "In summary, this line is creating a Black-Litterman model object with the provided parameters. This object can be used to compute the posterior returns and covariance matrix for further analysis or portfolio optimization."
   ]
  },
  {
   "cell_type": "code",
   "execution_count": 73,
   "id": "f9532028-391a-464c-ad9d-6083eb6ef06e",
   "metadata": {},
   "outputs": [
    {
     "data": {
      "text/plain": [
       "CRSP     0.053049\n",
       "GOOGL    0.098617\n",
       "MSFT     0.108740\n",
       "NVDA     0.131086\n",
       "TSLA     0.267512\n",
       "dtype: float64"
      ]
     },
     "execution_count": 73,
     "metadata": {},
     "output_type": "execute_result"
    }
   ],
   "source": [
    "ret_bl = bl.bl_returns()\n",
    "ret_bl"
   ]
  },
  {
   "cell_type": "code",
   "execution_count": 74,
   "id": "a3f2e94e-f96c-4a7f-a694-8b797f007d99",
   "metadata": {},
   "outputs": [
    {
     "data": {
      "text/html": [
       "<div>\n",
       "<style scoped>\n",
       "    .dataframe tbody tr th:only-of-type {\n",
       "        vertical-align: middle;\n",
       "    }\n",
       "\n",
       "    .dataframe tbody tr th {\n",
       "        vertical-align: top;\n",
       "    }\n",
       "\n",
       "    .dataframe thead th {\n",
       "        text-align: right;\n",
       "    }\n",
       "</style>\n",
       "<table border=\"1\" class=\"dataframe\">\n",
       "  <thead>\n",
       "    <tr style=\"text-align: right;\">\n",
       "      <th></th>\n",
       "      <th>Prior</th>\n",
       "      <th>Posterior</th>\n",
       "      <th>Views</th>\n",
       "    </tr>\n",
       "  </thead>\n",
       "  <tbody>\n",
       "    <tr>\n",
       "      <th>CRSP</th>\n",
       "      <td>0.270324</td>\n",
       "      <td>0.053049</td>\n",
       "      <td>0.050</td>\n",
       "    </tr>\n",
       "    <tr>\n",
       "      <th>GOOGL</th>\n",
       "      <td>0.247107</td>\n",
       "      <td>0.098617</td>\n",
       "      <td>0.080</td>\n",
       "    </tr>\n",
       "    <tr>\n",
       "      <th>MSFT</th>\n",
       "      <td>0.259147</td>\n",
       "      <td>0.108740</td>\n",
       "      <td>0.090</td>\n",
       "    </tr>\n",
       "    <tr>\n",
       "      <th>NVDA</th>\n",
       "      <td>0.396710</td>\n",
       "      <td>0.131086</td>\n",
       "      <td>0.100</td>\n",
       "    </tr>\n",
       "    <tr>\n",
       "      <th>TSLA</th>\n",
       "      <td>0.393987</td>\n",
       "      <td>0.267512</td>\n",
       "      <td>0.305</td>\n",
       "    </tr>\n",
       "  </tbody>\n",
       "</table>\n",
       "</div>"
      ],
      "text/plain": [
       "          Prior  Posterior  Views\n",
       "CRSP   0.270324   0.053049  0.050\n",
       "GOOGL  0.247107   0.098617  0.080\n",
       "MSFT   0.259147   0.108740  0.090\n",
       "NVDA   0.396710   0.131086  0.100\n",
       "TSLA   0.393987   0.267512  0.305"
      ]
     },
     "execution_count": 74,
     "metadata": {},
     "output_type": "execute_result"
    }
   ],
   "source": [
    "rets_df = pd.DataFrame([market_prior, ret_bl, pd.Series(viewdict)],\n",
    "                       index=['Prior', 'Posterior', 'Views']).T\n",
    "\n",
    "rets_df"
   ]
  },
  {
   "cell_type": "code",
   "execution_count": 75,
   "id": "70d639a2-8f23-490c-882b-0460c99d5147",
   "metadata": {},
   "outputs": [
    {
     "data": {
      "text/plain": [
       "<Axes: >"
      ]
     },
     "execution_count": 75,
     "metadata": {},
     "output_type": "execute_result"
    },
    {
     "data": {
      "image/png": "[encoded data removed]",
      "text/plain": [
       "<Figure size 1200x800 with 1 Axes>"
      ]
     },
     "metadata": {},
     "output_type": "display_data"
    }
   ],
   "source": [
    "rets_df.plot.bar(figsize=(12,8))"
   ]
  },
  {
   "cell_type": "code",
   "execution_count": 76,
   "id": "37b796bd-5085-4d02-8ec1-67a21c84d703",
   "metadata": {},
   "outputs": [
    {
     "data": {
      "text/plain": [
       "<Axes: >"
      ]
     },
     "execution_count": 76,
     "metadata": {},
     "output_type": "execute_result"
    },
    {
     "data": {
      "image/png": "[encoded data removed]",
      "text/plain": [
       "<Figure size 640x480 with 2 Axes>"
      ]
     },
     "metadata": {},
     "output_type": "display_data"
    }
   ],
   "source": [
    "S_bl = bl.bl_cov()\n",
    "plotting.plot_covariance(S_bl)"
   ]
  },
  {
   "cell_type": "markdown",
   "id": "bdd7432b-c619-4a42-b456-76b187ff2814",
   "metadata": {},
   "source": [
    "## Portfolio Allocation"
   ]
  },
  {
   "cell_type": "code",
   "execution_count": 77,
   "id": "b4fd1cab-0a9f-4dbe-82c1-bae46712c400",
   "metadata": {},
   "outputs": [
    {
     "name": "stderr",
     "output_type": "stream",
     "text": [
      "/Users/ryanzola/Documents/Web/python/simple_moving_average/simple_moving_average_env/lib/python3.10/site-packages/pypfopt/efficient_frontier/efficient_frontier.py:259: UserWarning: max_sharpe transforms the optimization problem so additional objectives may not work as expected.\n",
      "  warnings.warn(\n"
     ]
    },
    {
     "data": {
      "text/plain": [
       "OrderedDict([('CRSP', 0.0),\n",
       "             ('GOOGL', 0.15272),\n",
       "             ('MSFT', 0.17905),\n",
       "             ('NVDA', 0.17668),\n",
       "             ('TSLA', 0.49154)])"
      ]
     },
     "execution_count": 77,
     "metadata": {},
     "output_type": "execute_result"
    }
   ],
   "source": [
    "ef = EfficientFrontier(ret_bl, S_bl)\n",
    "ef.add_objective(objective_functions.L2_reg)\n",
    "ef.max_sharpe()\n",
    "\n",
    "weights = ef.clean_weights()\n",
    "weights"
   ]
  },
  {
   "cell_type": "code",
   "execution_count": 78,
   "id": "d33f69e4-d42f-4429-b83c-f38407c210ff",
   "metadata": {},
   "outputs": [
    {
     "data": {
      "text/plain": [
       "<Axes: >"
      ]
     },
     "execution_count": 78,
     "metadata": {},
     "output_type": "execute_result"
    },
    {
     "data": {
      "image/png": "[encoded data removed]",
      "text/plain": [
       "<Figure size 600x600 with 1 Axes>"
      ]
     },
     "metadata": {},
     "output_type": "display_data"
    }
   ],
   "source": [
    "pd.Series(weights).plot.pie(figsize=(6,6))"
   ]
  },
  {
   "cell_type": "code",
   "execution_count": 79,
   "id": "055be165-f434-4333-9499-9b966bbfafb9",
   "metadata": {},
   "outputs": [
    {
     "name": "stdout",
     "output_type": "stream",
     "text": [
      "Expected annual return: 18.9%\n",
      "Annual volatility: 43.5%\n",
      "Sharpe Ratio: 0.39\n"
     ]
    },
    {
     "name": "stderr",
     "output_type": "stream",
     "text": [
      "/Users/ryanzola/Documents/Web/python/simple_moving_average/simple_moving_average_env/lib/python3.10/site-packages/pypfopt/efficient_frontier/efficient_frontier.py:259: UserWarning: max_sharpe transforms the optimization problem so additional objectives may not work as expected.\n",
      "  warnings.warn(\n",
      "/Users/ryanzola/Documents/Web/python/simple_moving_average/simple_moving_average_env/lib/python3.10/site-packages/pypfopt/efficient_frontier/efficient_frontier.py:441: UserWarning: The risk_free_rate provided to portfolio_performance is different to the one used by max_sharpe. Using the previous value.\n",
      "  warnings.warn(\n"
     ]
    },
    {
     "data": {
      "text/plain": [
       "(0.1891856270894178, 0.4354459408589703, 0.38853416971961774)"
      ]
     },
     "execution_count": 79,
     "metadata": {},
     "output_type": "execute_result"
    },
    {
     "data": {
      "image/png": "[encoded data removed]",
      "text/plain": [
       "<Figure size 640x480 with 1 Axes>"
      ]
     },
     "metadata": {},
     "output_type": "display_data"
    }
   ],
   "source": [
    "from pypfopt.plotting import plot_weights\n",
    "\n",
    "# Maximum Sharpe\n",
    "ef = EfficientFrontier(ret_bl, S_bl)\n",
    "ef.add_objective(objective_functions.L2_reg)\n",
    "ef.max_sharpe()\n",
    "\n",
    "weights = ef.clean_weights()\n",
    "\n",
    "plot_weights(weights)\n",
    "ef.portfolio_performance(verbose=True, risk_free_rate=0.009)"
   ]
  },
  {
   "cell_type": "code",
   "execution_count": null,
   "id": "4c44ecf6-2184-4405-a783-b074badc1994",
   "metadata": {},
   "outputs": [],
   "source": []
  }
 ],
 "metadata": {
  "kernelspec": {
   "display_name": "simple_moving_average_env",
   "language": "python",
   "name": "simple_moving_average_env"
  },
  "language_info": {
   "codemirror_mode": {
    "name": "ipython",
    "version": 3
   },
   "file_extension": ".py",
   "mimetype": "text/x-python",
   "name": "python",
   "nbconvert_exporter": "python",
   "pygments_lexer": "ipython3",
   "version": "3.10.9"
  }
 },
 "nbformat": 4,
 "nbformat_minor": 5
}
