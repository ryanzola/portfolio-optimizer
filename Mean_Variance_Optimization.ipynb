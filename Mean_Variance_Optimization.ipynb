{
 "cells": [
  {
   "cell_type": "markdown",
   "id": "06e87b28-73eb-424e-897c-b8cbce5b460c",
   "metadata": {},
   "source": [
    "# Mean-Variance Portfolio Optimization \n",
    "\n",
    "This is a strategy aimed at maximizing the rewards for a given level of risk in portfolio allocation. The principle is to balance risk and reward - to strive for the highest possible return without accepting an inefficient amount of risk relative to the market. This approach aids in determining the optimal portfolio allocation, focusing on gaining the highest returns for the lowest risk. It's all about identifying the sweet spot on the Efficient Frontier - the place where risk and return balance each other out for peak portfolio efficiency."
   ]
  },
  {
   "cell_type": "code",
   "execution_count": null,
   "id": "c21ac8e6-15c6-4d92-aef9-443c01e5aa8f",
   "metadata": {},
   "outputs": [],
   "source": [
    "%pip install yfinance"
   ]
  },
  {
   "cell_type": "code",
   "execution_count": 2,
   "id": "f2a0a638-c3a1-412d-bff3-db682ac0060a",
   "metadata": {},
   "outputs": [],
   "source": [
    "# Cool data\n",
    "import yfinance as yf\n",
    "\n",
    "# The usual suspects\n",
    "import pandas as pd\n",
    "import numpy as np\n",
    "import matplotlib.pyplot as plt\n",
    "import plotly.express as px\n",
    "import seaborn as sns"
   ]
  },
  {
   "cell_type": "code",
   "execution_count": 3,
   "id": "53bf4394-f0cf-4de0-b6f0-f5af1f3cad58",
   "metadata": {},
   "outputs": [],
   "source": [
    "# Create a portfolio\n",
    "symbols = [\n",
    "    'TSLA',\n",
    "    'MSFT',\n",
    "    'NVDA',\n",
    "    'GOOGL',\n",
    "    'CRSP'\n",
    "]"
   ]
  },
  {
   "cell_type": "code",
   "execution_count": null,
   "id": "518e5032-a68d-45cc-ad0d-955070d22ff4",
   "metadata": {},
   "outputs": [],
   "source": []
  }
 ],
 "metadata": {
  "kernelspec": {
   "display_name": "simple_moving_average_env",
   "language": "python",
   "name": "simple_moving_average_env"
  },
  "language_info": {
   "codemirror_mode": {
    "name": "ipython",
    "version": 3
   },
   "file_extension": ".py",
   "mimetype": "text/x-python",
   "name": "python",
   "nbconvert_exporter": "python",
   "pygments_lexer": "ipython3",
   "version": "3.10.9"
  }
 },
 "nbformat": 4,
 "nbformat_minor": 5
}
